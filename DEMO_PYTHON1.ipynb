{
  "nbformat": 4,
  "nbformat_minor": 0,
  "metadata": {
    "colab": {
      "provenance": [],
      "authorship_tag": "ABX9TyPlbqpan0uaTDW8quUJUG53",
      "include_colab_link": true
    },
    "kernelspec": {
      "name": "python3",
      "display_name": "Python 3"
    },
    "language_info": {
      "name": "python"
    }
  },
  "cells": [
    {
      "cell_type": "markdown",
      "metadata": {
        "id": "view-in-github",
        "colab_type": "text"
      },
      "source": [
        "<a href=\"https://colab.research.google.com/github/FunmiOkpodudu/Capstone-Project-Analyzing_Covid_19-Dataset/blob/main/DEMO_PYTHON1.ipynb\" target=\"_parent\"><img src=\"https://colab.research.google.com/assets/colab-badge.svg\" alt=\"Open In Colab\"/></a>"
      ]
    },
    {
      "cell_type": "code",
      "execution_count": 1,
      "metadata": {
        "colab": {
          "base_uri": "https://localhost:8080/"
        },
        "id": "FROtzA6JqB8E",
        "outputId": "4b0075c5-3a41-4eb9-d9b2-6f21b1127358"
      },
      "outputs": [
        {
          "output_type": "stream",
          "name": "stdout",
          "text": [
            "-28\n"
          ]
        }
      ],
      "source": [
        "# INPUT\n",
        "number1 = 7\n",
        "number2 = -4\n",
        "\n",
        "# PROCESSING\n",
        "result = number1*number2\n",
        "\n",
        "# OUTPUT\n",
        "\n",
        "print(result)\n"
      ]
    },
    {
      "cell_type": "markdown",
      "source": [
        "**Write a python code to find the area of a circle of any given radius**"
      ],
      "metadata": {
        "id": "z00ogKeoszkl"
      }
    },
    {
      "cell_type": "code",
      "source": [
        "# INPUT\n",
        "\n",
        "radius = 21\n",
        "pie = 3.142\n",
        "\n",
        "# PROCESSING\n",
        "\n",
        "area = pie * (radius**2)\n",
        "\n",
        "# OUTPUT\n",
        "\n",
        "print(area)\n"
      ],
      "metadata": {
        "colab": {
          "base_uri": "https://localhost:8080/"
        },
        "id": "pZj4e_VrsqOw",
        "outputId": "ec03763e-1317-4c96-d134-989fb5d7c01e"
      },
      "execution_count": 5,
      "outputs": [
        {
          "output_type": "stream",
          "name": "stdout",
          "text": [
            "1385.622\n"
          ]
        }
      ]
    },
    {
      "cell_type": "markdown",
      "source": [],
      "metadata": {
        "id": "s3UOEgbssxiJ"
      }
    }
  ]
}